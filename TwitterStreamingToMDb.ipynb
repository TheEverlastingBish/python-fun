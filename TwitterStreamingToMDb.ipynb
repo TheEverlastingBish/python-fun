{
 "cells": [
  {
   "cell_type": "code",
   "execution_count": null,
   "metadata": {
    "collapsed": true
   },
   "outputs": [],
   "source": [
    "from tweepy import Stream\n",
    "from tweepy import OAuthHandler\n",
    "from tweepy.streaming import StreamListener\n",
    "from twitterapistuff import *\n",
    "import json\n",
    "import io\n",
    "import sys\n",
    "from datetime import datetime\n",
    "\n",
    "try:\n",
    "    from pymongo import MongoClient\n",
    "    from pymongo.errors import ConnectionFailure\n",
    "    from pymongo.errors import WriteError\n",
    "    has_mongo_client = True\n",
    "except ImportError:\n",
    "    has_mongo_client = False\n"
   ]
  },
  {
   "cell_type": "code",
   "execution_count": null,
   "metadata": {
    "collapsed": true
   },
   "outputs": [],
   "source": [
    "def mongo_connect():\n",
    "\n",
    "    try:\n",
    "        mc = MongoClient('localhost', 27017)\n",
    "        print(\"Connected Successfully\")\n",
    "        \n",
    "        # Get a database handle to a database named \"pytest\"\n",
    "        dbh_int = mc[\"pytest\"]\n",
    "        print(\"Connected to database\")\n",
    "        \n",
    "        return dbh_int\n",
    "\n",
    "    except ConnectionFailure as e:\n",
    "        sys.stderr.write(\"Could not connect to MongoDb %s\" % e)\n",
    "        sys.exit(1)\n"
   ]
  },
  {
   "cell_type": "code",
   "execution_count": null,
   "metadata": {
    "collapsed": true
   },
   "outputs": [],
   "source": [
    "def mongo_write(data_snippet, dbh):\n",
    "    \n",
    "    try:\n",
    "        dbh.tweetest.insert(data_snippet)\n",
    "        print(\"Successfully inserted document.\")\n",
    "        \n",
    "    except WriteError as we:\n",
    "        sys.stderr.write(\"Unable to insert: %s\" % we)\n",
    "        sys.exit(1)\n"
   ]
  },
  {
   "cell_type": "code",
   "execution_count": null,
   "metadata": {
    "collapsed": true
   },
   "outputs": [],
   "source": [
    "class listener(StreamListener):\n",
    "\n",
    "    def on_status(self, status):\n",
    "        \n",
    "        tweeDict = {}\n",
    "        \n",
    "        tweeDict['userName'] = status.user.screen_name\n",
    "        tweeDict['userDisplayName'] = status.user.name\n",
    "        tweeDict['userDescription'] = status.user.description\n",
    "        tweeDict['userLocation'] = status.user.location\n",
    "        tweeDict['userFollowers'] = status.user.followers_count\n",
    "\n",
    "        tweeDict['tweetTimeStamp'] = status.created_at\n",
    "        tweeDict['tweetTimeStamp_ms'] = int(status.timestamp_ms)\n",
    "        tweeDict['tweetId'] = status.id\n",
    "        tweeDict['tweetText'] = status.text\n",
    "        tweeDict['tweetCoords'] = status.coordinates\n",
    "\n",
    "        # print(\"Starting write...\")\n",
    "        mongo_write(tweeDict, dbh)\n",
    "\n",
    "        # print(\"Finished write...\")\n",
    "        return(True)\n",
    "\n",
    "    def on_error(self, status):\n",
    "        print(status)\n"
   ]
  },
  {
   "cell_type": "code",
   "execution_count": null,
   "metadata": {
    "collapsed": true
   },
   "outputs": [],
   "source": [
    "auth = OAuthHandler(cKey, cSecret)\n",
    "auth.set_access_token(aToken, aSecret)\n",
    "\n",
    "print(\"Starting streaming...\")\n",
    "\n",
    "dbh = mongo_connect()\n",
    "\n",
    "twitterStream = Stream(auth, listener())\n",
    "twitterStream.filter(track=[\"brexit\"])\n"
   ]
  }
 ],
 "metadata": {
  "kernelspec": {
   "display_name": "Python 3",
   "language": "python",
   "name": "python3"
  },
  "language_info": {
   "codemirror_mode": {
    "name": "ipython",
    "version": 3
   },
   "file_extension": ".py",
   "mimetype": "text/x-python",
   "name": "python",
   "nbconvert_exporter": "python",
   "pygments_lexer": "ipython3",
   "version": "3.6.2"
  }
 },
 "nbformat": 4,
 "nbformat_minor": 2
}
