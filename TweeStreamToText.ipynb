{
 "cells": [
  {
   "cell_type": "code",
   "execution_count": null,
   "metadata": {
    "collapsed": true
   },
   "outputs": [],
   "source": [
    "from tweepy import Stream\n",
    "from tweepy import OAuthHandler\n",
    "from tweepy.streaming import StreamListener\n",
    "from twitterapistuff import *\n",
    "import json\n",
    "import io\n"
   ]
  },
  {
   "cell_type": "code",
   "execution_count": null,
   "metadata": {
    "collapsed": true
   },
   "outputs": [],
   "source": [
    "class listener(StreamListener):\n",
    "\n",
    "    results = []\n",
    "    def on_status(self, status):\n",
    "        \n",
    "        # print(data)\n",
    "        tweeDict = {}\n",
    "        # all_data = json.loads(data)\n",
    "        \n",
    "        tweeDict['userName'] = status.user.screen_name\n",
    "        tweeDict['userDisplayName'] = status.user.name\n",
    "        tweeDict['userDescription'] = status.user.description\n",
    "        tweeDict['userLocation'] = status.user.location\n",
    "        tweeDict['userFollowers'] = status.user.followers_count\n",
    "\n",
    "        tweeDict['tweetTimeStamp'] = status.created_at\n",
    "        tweeDict['tweetTimeStamp_ms'] = int(status.timestamp_ms)\n",
    "        tweeDict['tweetId'] = status.id\n",
    "        tweeDict['tweetText'] = status.text\n",
    "        tweeDict['tweetCoords'] = status.coordinates\n",
    "\n",
    "        # print(tweeDict)\n",
    "        # results.append(tweeDict)\n",
    "\n",
    "        # print(\"Starting write...\")\n",
    "        \n",
    "        with open(\"tweeStreamStatus.txt\", \"a\", encoding=\"utf-8\") as fl:\n",
    "            fl.write(str(tweeDict))\n",
    "            fl.write(\",\\n\")\n",
    "        \n",
    "        fl.close()\n",
    "        # print(\"Finished write...\")\n",
    "        return(True)\n",
    "\n",
    "    def on_error(self, status):\n",
    "        print(status)\n"
   ]
  },
  {
   "cell_type": "code",
   "execution_count": null,
   "metadata": {
    "collapsed": true
   },
   "outputs": [],
   "source": [
    "auth = OAuthHandler(cKey, cSecret)\n",
    "auth.set_access_token(aToken, aSecret)\n",
    "\n",
    "print(\"Started streaming...\")\n",
    "\n",
    "twitterStream = Stream(auth, listener())\n",
    "twitterStream.filter(track=[\"india\"])\n"
   ]
  }
 ],
 "metadata": {
  "kernelspec": {
   "display_name": "Python 3",
   "language": "python",
   "name": "python3"
  },
  "language_info": {
   "codemirror_mode": {
    "name": "ipython",
    "version": 3
   },
   "file_extension": ".py",
   "mimetype": "text/x-python",
   "name": "python",
   "nbconvert_exporter": "python",
   "pygments_lexer": "ipython3",
   "version": "3.6.2"
  }
 },
 "nbformat": 4,
 "nbformat_minor": 2
}
